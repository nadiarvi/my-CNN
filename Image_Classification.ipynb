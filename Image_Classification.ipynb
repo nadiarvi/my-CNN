{
  "cells": [
    {
      "cell_type": "markdown",
      "metadata": {
        "id": "view-in-github",
        "colab_type": "text"
      },
      "source": [
        "<a href=\"https://colab.research.google.com/github/nadiarvi/my-CNN/blob/main/Image_Classification.ipynb\" target=\"_parent\"><img src=\"https://colab.research.google.com/assets/colab-badge.svg\" alt=\"Open In Colab\"/></a>"
      ]
    },
    {
      "cell_type": "markdown",
      "metadata": {
        "id": "cYHEWagN4gKy"
      },
      "source": [
        "\n",
        "## **Preparation: Packages**"
      ]
    },
    {
      "cell_type": "code",
      "execution_count": 1,
      "metadata": {
        "id": "p77FBACT4qiy"
      },
      "outputs": [],
      "source": [
        "# Import the required packages.\n",
        "import os\n",
        "import random\n",
        "\n",
        "import numpy as  np\n",
        "\n",
        "import torch\n",
        "import torch.optim as optim\n",
        "import torch.nn as nn\n",
        "import torch.nn.functional as F\n",
        "from torch.utils.data import DataLoader\n",
        "import torchvision\n",
        "from torchvision import transforms\n",
        "\n",
        "import matplotlib.pyplot as plt\n",
        "\n",
        "# Fix the random seed.\n",
        "np.random.seed(0)\n",
        "random.seed(0)\n",
        "torch.manual_seed(0)\n",
        "torch.cuda.manual_seed(0)"
      ]
    },
    {
      "cell_type": "markdown",
      "metadata": {
        "id": "1vRFYAN34rzH"
      },
      "source": [
        "## **Preparation: Experiment configuration**\n"
      ]
    },
    {
      "cell_type": "code",
      "execution_count": 12,
      "metadata": {
        "id": "ehkWoWjc4xsX"
      },
      "outputs": [],
      "source": [
        "# Training & optimization hyper-parameters.\n",
        "max_epoch = 50\n",
        "learning_rate = 0.2\n",
        "batch_size = 512\n",
        "device = 'cuda'"
      ]
    },
    {
      "cell_type": "markdown",
      "metadata": {
        "id": "4Ft3_mpn41NX"
      },
      "source": [
        "## **Step 1. Data Pipeline Construction**"
      ]
    },
    {
      "cell_type": "code",
      "execution_count": 13,
      "metadata": {
        "id": "qojIgvuj42EJ",
        "colab": {
          "base_uri": "https://localhost:8080/"
        },
        "outputId": "3ace4071-9e3c-421a-93d8-c7c078138166"
      },
      "outputs": [
        {
          "output_type": "stream",
          "name": "stdout",
          "text": [
            "Files already downloaded and verified\n",
            "Files already downloaded and verified\n"
          ]
        }
      ],
      "source": [
        "data_dir = \"./my_data\"\n",
        "\n",
        "transform = transforms.Compose(\n",
        "    [transforms.ToTensor(),                                                         # Transform the data type of images into Tensor.\n",
        "     transforms.Normalize((0.4914, 0.4822, 0.4465), (0.247, 0.243, 0.261))])        # Normalize images.\n",
        "\n",
        "# Define the dataset and dataloader.\n",
        "train_dataset = torchvision.datasets.CIFAR10(root=data_dir, train=True, download=True, transform=transform)\n",
        "train_dataloader = torch.utils.data.DataLoader(train_dataset, batch_size=batch_size, shuffle=True, num_workers=2)\n",
        "\n",
        "test_dataset = torchvision.datasets.CIFAR10(root=data_dir, train=False, download=True, transform=transform)\n",
        "test_dataloader = torch.utils.data.DataLoader(test_dataset, batch_size=batch_size, shuffle=False, num_workers=2)\n",
        "\n",
        "# The classes of the CIFAR10 dataset\n",
        "classes = ('plane', 'car', 'bird', 'cat', 'deer', 'dog', 'frog', 'horse', 'ship', 'truck')\n",
        "output_dim = len(classes)"
      ]
    },
    {
      "cell_type": "markdown",
      "metadata": {
        "id": "BWkzynDK45tD"
      },
      "source": [
        "## **Step 2. Building Convolutional Neural Networks (CNNs)**"
      ]
    },
    {
      "cell_type": "code",
      "execution_count": 14,
      "metadata": {
        "id": "wlq-yzlYSOjS"
      },
      "outputs": [],
      "source": [
        "class My_Conv2d(nn.Module):\n",
        "    def __init__(self, in_feature, n_filter, filter_size, stride, pad):\n",
        "        super(My_Conv2d, self).__init__()\n",
        "        \"\"\"\n",
        "        - in_feature(int): input feature dimension (in_feature(int))\n",
        "        - n_filter(int): the number of filters (n_filter(int))\n",
        "        - filter_size(int): the size of filter\n",
        "        - stride(int): stride\n",
        "        - pad(int): number of paddings\n",
        "\n",
        "        Assume that all filters are square filters.\n",
        "        Shape: [n_filter x in_feature x filter_size x filter_size]\n",
        "\n",
        "        \"\"\"\n",
        "        # Parameters for CNN.\n",
        "        self.filter_size = filter_size\n",
        "        self.in_feature = in_feature\n",
        "        self.n_filter = n_filter\n",
        "\n",
        "        # Filter for CNN\n",
        "        self.filters = nn.Parameter(\n",
        "            torch.zeros((n_filter, in_feature, filter_size, filter_size), requires_grad = True))\n",
        "        self.bias = nn.Parameter(torch.zeros((1,n_filter,1,1),  requires_grad = True))\n",
        "        torch.nn.init.xavier_uniform_(self.filters)\n",
        "\n",
        "        self.stride = stride\n",
        "        self.pad = pad\n",
        "\n",
        "    def forward(self,x):\n",
        "        # Input size: [n_batch x in_feature x H x W]\n",
        "        # Output size: [n_batch x n_filter x H' x W']\n",
        "        new_h = (x.shape[2] - self.filter_size + 2 * self.pad) // self.stride + 1\n",
        "        new_w = (x.shape[3] - self.filter_size + 2 * self.pad) // self.stride + 1\n",
        "\n",
        "        # Add the padding\n",
        "        padded_x = F.pad(x, pad = (self.pad, self.pad, self.pad, self.pad))\n",
        "\n",
        "        # Precalculate the strided verison of the padded input.\n",
        "        strided = torch.as_strided(padded_x, (padded_x.shape[0], padded_x.shape[1], new_h, new_w, self.filter_size, self.filter_size), \\\n",
        "                                   (padded_x.shape[1] * padded_x.shape[2] * padded_x.shape[3], padded_x.shape[2]*padded_x.shape[3],  self.stride * padded_x.shape[3], self.stride, padded_x.shape[3], 1))\n",
        "\n",
        "        # Calculate the CNN result.\n",
        "        \"\"\"\n",
        "        self.filters: [n_filter, C, Filter size, Filter size]\n",
        "        strided: [B, C, H, W, Filter size, Filter size]\n",
        "        \"\"\"\n",
        "        result_x = torch.tensordot(self.filters, strided, dims=([1,2,3],[1,4,5])).transpose(0,1) + self.bias\n",
        "        return result_x"
      ]
    },
    {
      "cell_type": "markdown",
      "metadata": {
        "id": "pMi_3sWF0Pb7"
      },
      "source": [
        "## **Step 3. Building a CNN model based on My_Conv2d**"
      ]
    },
    {
      "cell_type": "code",
      "execution_count": 15,
      "metadata": {
        "id": "nn1Myvrs5IPI"
      },
      "outputs": [],
      "source": [
        "class MyOwnClassifier(nn.Module):\n",
        "    def __init__(self):\n",
        "        super(MyOwnClassifier, self).__init__()\n",
        "        self.conv1 = My_Conv2d(3, 64, 3, 1, 1)\n",
        "        self.maxpool1 = nn.MaxPool2d(2, stride = 2)\n",
        "        self.dropout1 = nn.Dropout()\n",
        "        self.conv2 = My_Conv2d(64, 128, 3, 1, 1)\n",
        "        self.maxpool2 = nn.MaxPool2d(2, stride = 2)\n",
        "        self.dropout2 = nn.Dropout()\n",
        "        self.conv3 = My_Conv2d(128, 256, 3, 1, 1)\n",
        "        self.maxpool3 = nn.MaxPool2d(2, stride = 2)\n",
        "        self.dropout3 = nn.Dropout()\n",
        "        self.fcn1 = nn.Linear(256*4*4, 256)\n",
        "        self.dropout4 = nn.Dropout()\n",
        "        self.fcn2 = nn.Linear(256, output_dim)\n",
        "        self.relu = nn.ReLU()\n",
        "\n",
        "\n",
        "    def forward(self, x):\n",
        "        x1 = self.dropout1(self.maxpool1(self.relu(self.conv1(x))))\n",
        "        x2 = self.dropout2(self.maxpool2(self.relu(self.conv2(x1))))\n",
        "        x3 = self.dropout3(self.maxpool3(self.relu(self.conv3(x2))))\n",
        "        x4 = self.dropout4(self.relu(self.fcn1(torch.flatten(x3, start_dim = 1))))\n",
        "        output = self.fcn2(x4)\n",
        "        return output"
      ]
    },
    {
      "cell_type": "markdown",
      "metadata": {
        "id": "urJN_hsr5KOO"
      },
      "source": [
        "## **Step 4. Initialize the network and optimizer**"
      ]
    },
    {
      "cell_type": "code",
      "execution_count": 16,
      "metadata": {
        "id": "AD9QgNgF5NKF",
        "colab": {
          "base_uri": "https://localhost:8080/"
        },
        "outputId": "175d3861-a964-4b3e-cfdd-eb738b6d40a1"
      },
      "outputs": [
        {
          "output_type": "stream",
          "name": "stdout",
          "text": [
            "MyOwnClassifier(\n",
            "  (conv1): My_Conv2d()\n",
            "  (maxpool1): MaxPool2d(kernel_size=2, stride=2, padding=0, dilation=1, ceil_mode=False)\n",
            "  (dropout1): Dropout(p=0.5, inplace=False)\n",
            "  (conv2): My_Conv2d()\n",
            "  (maxpool2): MaxPool2d(kernel_size=2, stride=2, padding=0, dilation=1, ceil_mode=False)\n",
            "  (dropout2): Dropout(p=0.5, inplace=False)\n",
            "  (conv3): My_Conv2d()\n",
            "  (maxpool3): MaxPool2d(kernel_size=2, stride=2, padding=0, dilation=1, ceil_mode=False)\n",
            "  (dropout3): Dropout(p=0.5, inplace=False)\n",
            "  (fcn1): Linear(in_features=4096, out_features=256, bias=True)\n",
            "  (dropout4): Dropout(p=0.5, inplace=False)\n",
            "  (fcn2): Linear(in_features=256, out_features=10, bias=True)\n",
            "  (relu): ReLU()\n",
            ")\n"
          ]
        }
      ],
      "source": [
        "my_classifier = MyOwnClassifier()\n",
        "my_classifier = my_classifier.to(device)\n",
        "\n",
        "# Print the architecture of CNN\n",
        "print(my_classifier)\n",
        "\n",
        "optimizer = optim.SGD(my_classifier.parameters(), lr=learning_rate)"
      ]
    },
    {
      "cell_type": "markdown",
      "metadata": {
        "id": "DZquBUX85YRZ"
      },
      "source": [
        "## **Step 5. Train the network**"
      ]
    },
    {
      "cell_type": "code",
      "execution_count": 17,
      "metadata": {
        "id": "gXjAKvE05Z9s",
        "colab": {
          "base_uri": "https://localhost:8080/"
        },
        "outputId": "ece79895-90c8-4170-b11f-4f7f34f87556"
      },
      "outputs": [
        {
          "output_type": "stream",
          "name": "stdout",
          "text": [
            "[epoch:1] train loss : 2.0848 train accuracy : 0.2313 test_loss : 2.0338 test accuracy : 0.2883\n",
            "[epoch:2] train loss : 1.8093 train accuracy : 0.3461 test_loss : 1.6858 test accuracy : 0.4305\n",
            "[epoch:3] train loss : 1.6719 train accuracy : 0.3982 test_loss : 1.5467 test accuracy : 0.4829\n",
            "[epoch:4] train loss : 1.5417 train accuracy : 0.4468 test_loss : 1.4610 test accuracy : 0.5019\n",
            "[epoch:5] train loss : 1.4611 train accuracy : 0.4734 test_loss : 1.3545 test accuracy : 0.5410\n",
            "[epoch:6] train loss : 1.3965 train accuracy : 0.4973 test_loss : 1.2762 test accuracy : 0.5499\n",
            "[epoch:7] train loss : 1.3426 train accuracy : 0.5209 test_loss : 1.3268 test accuracy : 0.5588\n",
            "[epoch:8] train loss : 1.2919 train accuracy : 0.5388 test_loss : 1.1968 test accuracy : 0.6026\n",
            "[epoch:9] train loss : 1.2454 train accuracy : 0.5585 test_loss : 1.1587 test accuracy : 0.6048\n",
            "[epoch:10] train loss : 1.2111 train accuracy : 0.5697 test_loss : 1.1277 test accuracy : 0.6100\n",
            "[epoch:11] train loss : 1.1656 train accuracy : 0.5883 test_loss : 1.0840 test accuracy : 0.6363\n",
            "[epoch:12] train loss : 1.1270 train accuracy : 0.6013 test_loss : 1.0111 test accuracy : 0.6536\n",
            "[epoch:13] train loss : 1.0924 train accuracy : 0.6143 test_loss : 0.9890 test accuracy : 0.6668\n",
            "[epoch:14] train loss : 1.0594 train accuracy : 0.6266 test_loss : 0.9816 test accuracy : 0.6633\n",
            "[epoch:15] train loss : 1.0472 train accuracy : 0.6304 test_loss : 0.9235 test accuracy : 0.6854\n",
            "[epoch:16] train loss : 1.0217 train accuracy : 0.6403 test_loss : 0.9614 test accuracy : 0.6695\n",
            "[epoch:17] train loss : 0.9911 train accuracy : 0.6491 test_loss : 0.8829 test accuracy : 0.6971\n",
            "[epoch:18] train loss : 0.9727 train accuracy : 0.6578 test_loss : 0.8876 test accuracy : 0.7023\n",
            "[epoch:19] train loss : 0.9503 train accuracy : 0.6646 test_loss : 0.8335 test accuracy : 0.7189\n",
            "[epoch:20] train loss : 0.9280 train accuracy : 0.6744 test_loss : 0.8326 test accuracy : 0.7184\n",
            "[epoch:21] train loss : 0.9084 train accuracy : 0.6811 test_loss : 0.7911 test accuracy : 0.7353\n",
            "[epoch:22] train loss : 0.8987 train accuracy : 0.6853 test_loss : 0.7989 test accuracy : 0.7407\n",
            "[epoch:23] train loss : 0.8771 train accuracy : 0.6933 test_loss : 0.7966 test accuracy : 0.7264\n",
            "[epoch:24] train loss : 0.8632 train accuracy : 0.6989 test_loss : 0.7925 test accuracy : 0.7307\n",
            "[epoch:25] train loss : 0.8447 train accuracy : 0.7034 test_loss : 0.7412 test accuracy : 0.7465\n",
            "[epoch:26] train loss : 0.8348 train accuracy : 0.7088 test_loss : 0.7396 test accuracy : 0.7555\n",
            "[epoch:27] train loss : 0.8208 train accuracy : 0.7117 test_loss : 0.7430 test accuracy : 0.7486\n",
            "[epoch:28] train loss : 0.8176 train accuracy : 0.7136 test_loss : 0.6998 test accuracy : 0.7661\n",
            "[epoch:29] train loss : 0.8021 train accuracy : 0.7170 test_loss : 0.7281 test accuracy : 0.7496\n",
            "[epoch:30] train loss : 0.7947 train accuracy : 0.7216 test_loss : 0.7035 test accuracy : 0.7569\n",
            "[epoch:31] train loss : 0.7771 train accuracy : 0.7282 test_loss : 0.6911 test accuracy : 0.7613\n",
            "[epoch:32] train loss : 0.7605 train accuracy : 0.7346 test_loss : 0.6861 test accuracy : 0.7659\n",
            "[epoch:33] train loss : 0.7611 train accuracy : 0.7311 test_loss : 0.6758 test accuracy : 0.7699\n",
            "[epoch:34] train loss : 0.7487 train accuracy : 0.7377 test_loss : 0.7250 test accuracy : 0.7474\n",
            "[epoch:35] train loss : 0.7501 train accuracy : 0.7355 test_loss : 0.6586 test accuracy : 0.7731\n",
            "[epoch:36] train loss : 0.7302 train accuracy : 0.7439 test_loss : 0.6781 test accuracy : 0.7675\n",
            "[epoch:37] train loss : 0.7264 train accuracy : 0.7450 test_loss : 0.6509 test accuracy : 0.7778\n",
            "[epoch:38] train loss : 0.7167 train accuracy : 0.7495 test_loss : 0.6451 test accuracy : 0.7797\n",
            "[epoch:39] train loss : 0.7017 train accuracy : 0.7522 test_loss : 0.6879 test accuracy : 0.7678\n",
            "[epoch:40] train loss : 0.6980 train accuracy : 0.7561 test_loss : 0.6777 test accuracy : 0.7653\n",
            "[epoch:41] train loss : 0.6919 train accuracy : 0.7560 test_loss : 0.6189 test accuracy : 0.7911\n",
            "[epoch:42] train loss : 0.6896 train accuracy : 0.7580 test_loss : 0.6285 test accuracy : 0.7836\n",
            "[epoch:43] train loss : 0.6738 train accuracy : 0.7617 test_loss : 0.6394 test accuracy : 0.7764\n",
            "[epoch:44] train loss : 0.6728 train accuracy : 0.7630 test_loss : 0.6033 test accuracy : 0.7925\n",
            "[epoch:45] train loss : 0.6572 train accuracy : 0.7705 test_loss : 0.6038 test accuracy : 0.7964\n",
            "[epoch:46] train loss : 0.6572 train accuracy : 0.7669 test_loss : 0.6614 test accuracy : 0.7742\n",
            "[epoch:47] train loss : 0.6605 train accuracy : 0.7698 test_loss : 0.6236 test accuracy : 0.7866\n",
            "[epoch:48] train loss : 0.6447 train accuracy : 0.7743 test_loss : 0.6105 test accuracy : 0.7913\n",
            "[epoch:49] train loss : 0.6424 train accuracy : 0.7748 test_loss : 0.5910 test accuracy : 0.7994\n",
            "[epoch:50] train loss : 0.6349 train accuracy : 0.7748 test_loss : 0.5796 test accuracy : 0.8047\n"
          ]
        }
      ],
      "source": [
        "train_losses = []\n",
        "train_accs = []\n",
        "test_losses = []\n",
        "test_accs = []\n",
        "for epoch in range(max_epoch):\n",
        "    my_classifier.train()\n",
        "    epoch_loss = 0\n",
        "    epoch_acc = 0\n",
        "    n_train = 0\n",
        "    for inputs, labels in train_dataloader:\n",
        "\n",
        "        inputs = inputs.to(device)\n",
        "        labels = labels.to(device)\n",
        "\n",
        "        logits = my_classifier(inputs)\n",
        "\n",
        "        # Calculate loss\n",
        "        loss = F.cross_entropy(logits, labels)\n",
        "        optimizer.zero_grad()\n",
        "        loss.backward()\n",
        "        optimizer.step()\n",
        "\n",
        "        # Save loss and accuracy for visualization\n",
        "        epoch_loss += loss.item()*inputs.size(0)\n",
        "        epoch_acc += (logits.argmax(dim=1) == labels).float().sum().item()\n",
        "        n_train += inputs.size(0)\n",
        "\n",
        "    # Save losses and accuracies for visualization\n",
        "    epoch_loss /= n_train\n",
        "    epoch_acc /= n_train\n",
        "    train_losses.append(epoch_loss)\n",
        "    train_accs.append(epoch_acc)\n",
        "\n",
        "\n",
        "    # Test phase\n",
        "    n_test = 0.\n",
        "    test_loss = 0.\n",
        "    test_acc = 0.\n",
        "\n",
        "    my_classifier.eval()\n",
        "    for test_inputs, test_labels in test_dataloader:\n",
        "        test_inputs = test_inputs.to(device)\n",
        "        test_labels = test_labels.to(device)\n",
        "\n",
        "        logits = my_classifier(test_inputs)\n",
        "        tmp_loss = F.cross_entropy(logits, test_labels, reduction='sum')\n",
        "\n",
        "        # Save loss and accuracy for visualization\n",
        "        test_loss += tmp_loss.item()\n",
        "        test_acc += (logits.argmax(dim=1) == test_labels).float().sum().item()\n",
        "        n_test += test_inputs.size(0)\n",
        "\n",
        "    test_loss /= n_test\n",
        "    test_acc /= n_test\n",
        "    test_losses.append(test_loss)\n",
        "    test_accs.append(test_acc)\n",
        "\n",
        "    print('[epoch:{}] train loss : {:.4f} train accuracy : {:.4f} test_loss : {:.4f} test accuracy : {:.4f}'.format(epoch+1, epoch_loss, epoch_acc, test_loss, test_acc))"
      ]
    },
    {
      "cell_type": "markdown",
      "metadata": {
        "id": "vLPUdaJW5eFf"
      },
      "source": [
        "## **Step 6. Visualize the loss and accuracy**"
      ]
    },
    {
      "cell_type": "code",
      "execution_count": 18,
      "metadata": {
        "id": "XtHz6CmL5gNw",
        "colab": {
          "base_uri": "https://localhost:8080/",
          "height": 430
        },
        "outputId": "6ec3ae8e-bd37-42db-d6ff-46fcb566612f"
      },
      "outputs": [
        {
          "output_type": "display_data",
          "data": {
            "text/plain": [
              "<Figure size 640x480 with 1 Axes>"
            ],
            "image/png": "[encoded data removed]"
          },
          "metadata": {}
        }
      ],
      "source": [
        "plt.plot(train_losses, label='train loss')\n",
        "plt.plot(test_losses, label='test loss')\n",
        "plt.legend()\n",
        "plt.show()"
      ]
    },
    {
      "cell_type": "code",
      "execution_count": 19,
      "metadata": {
        "id": "9iCbdvUSlCXc",
        "colab": {
          "base_uri": "https://localhost:8080/",
          "height": 430
        },
        "outputId": "4bb15a44-7986-4ee0-ddee-b9dc515b639a"
      },
      "outputs": [
        {
          "output_type": "display_data",
          "data": {
            "text/plain": [
              "<Figure size 640x480 with 1 Axes>"
            ],
            "image/png": "[encoded data removed]"
          },
          "metadata": {}
        }
      ],
      "source": [
        "plt.clf()\n",
        "plt.plot(train_accs, label='train accuracy')\n",
        "plt.plot(test_accs, label='test accuracy')\n",
        "plt.legend()\n",
        "plt.show()"
      ]
    },
    {
      "cell_type": "code",
      "execution_count": 20,
      "metadata": {
        "id": "HZhTdNF75mJD",
        "colab": {
          "base_uri": "https://localhost:8080/",
          "height": 466
        },
        "outputId": "094220ca-d800-4fba-bb3e-5cf39fb5ee07"
      },
      "outputs": [
        {
          "output_type": "stream",
          "name": "stdout",
          "text": [
            "label : dog\n",
            "prediction : dog\n"
          ]
        },
        {
          "output_type": "display_data",
          "data": {
            "text/plain": [
              "<Figure size 640x480 with 1 Axes>"
            ],
            "image/png": "[encoded data removed]"
          },
          "metadata": {}
        }
      ],
      "source": [
        "my_classifier.eval()\n",
        "\n",
        "num_test_samples = len(test_dataset)\n",
        "random_idx = random.randint(0, num_test_samples)\n",
        "test_input, test_label = test_dataset.__getitem__(random_idx)\n",
        "test_prediction = F.softmax(my_classifier(test_input.unsqueeze(0).to(device)), dim=1).argmax().item()\n",
        "print('label : %s' % classes[test_label])\n",
        "print('prediction : %s' % classes[test_prediction])\n",
        "\n",
        "def imshow(img):\n",
        "    img[0] = img[0] * 0.247 + 0.4914\n",
        "    img[1] = img[1] * 0.243 + 0.4822\n",
        "    img[2] = img[2] * 0.261 + 0.4465\n",
        "    npimg = img.numpy()\n",
        "    plt.imshow(np.transpose(npimg, (1, 2, 0)))\n",
        "\n",
        "# Show images\n",
        "imshow(torchvision.utils.make_grid(test_input))"
      ]
    }
  ],
  "metadata": {
    "accelerator": "GPU",
    "colab": {
      "provenance": [],
      "gpuType": "T4",
      "include_colab_link": true
    },
    "kernelspec": {
      "display_name": "Python 3",
      "name": "python3"
    },
    "language_info": {
      "codemirror_mode": {
        "name": "ipython",
        "version": 3
      },
      "file_extension": ".py",
      "mimetype": "text/x-python",
      "name": "python",
      "nbconvert_exporter": "python",
      "pygments_lexer": "ipython3",
      "version": "3.9.17"
    }
  },
  "nbformat": 4,
  "nbformat_minor": 0
}